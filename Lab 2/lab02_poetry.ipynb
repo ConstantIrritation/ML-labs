{
  "cells": [
    {
      "cell_type": "markdown",
      "metadata": {
        "id": "0iLE4Z__1yP2"
      },
      "source": [
        "## Lab 2"
      ]
    },
    {
      "cell_type": "markdown",
      "metadata": {
        "id": "uo47WQAv1yP4"
      },
      "source": [
        "### Poetry generation\n",
        "\n",
        "Let's try to generate some poetry using RNNs and The Shakespeare sonnets\n",
        "\n",
        "Text generation can be designed in several steps:\n",
        "    \n",
        "1. Data loading.\n",
        "2. Dictionary generation.\n",
        "3. Data preprocessing.\n",
        "4. Model (neural network) training.\n",
        "5. Text generation (model evaluation).\n"
      ]
    },
    {
      "cell_type": "code",
      "execution_count": 1,
      "metadata": {
        "id": "OFYnVA4b1yP6"
      },
      "outputs": [],
      "source": [
        "import string\n",
        "import os"
      ]
    },
    {
      "cell_type": "code",
      "source": [
        "import numpy as np\n",
        "import torch\n",
        "import torch.nn as nn\n",
        "import torch.nn.functional as F\n",
        "\n",
        "from IPython.display import clear_output\n",
        "import matplotlib.pyplot as plt"
      ],
      "metadata": {
        "id": "fpLPtCaD5FO0"
      },
      "execution_count": 2,
      "outputs": []
    },
    {
      "cell_type": "code",
      "source": [
        "device = torch.device(\"cuda\") if torch.cuda.is_available() else torch.device(\"cpu\")\n",
        "device"
      ],
      "metadata": {
        "colab": {
          "base_uri": "https://localhost:8080/"
        },
        "id": "wlAg2FLn5GbI",
        "outputId": "78121f85-23b5-44f1-deb8-e1c68c353ed1"
      },
      "execution_count": 3,
      "outputs": [
        {
          "output_type": "execute_result",
          "data": {
            "text/plain": [
              "device(type='cuda')"
            ]
          },
          "metadata": {},
          "execution_count": 3
        }
      ]
    },
    {
      "cell_type": "markdown",
      "metadata": {
        "id": "eZ3S5vaf1yP7"
      },
      "source": [
        "### Data loading"
      ]
    },
    {
      "cell_type": "markdown",
      "metadata": {
        "id": "-w8u8NvA1yP7"
      },
      "source": [
        "Shakespeare sonnets are awailable at this [link](http://www.gutenberg.org/ebooks/1041?msg=welcome_stranger). In addition, they are stored in the same directory as this notebook (`sonnetes.txt`). Simple preprocessing is already done for you in the next cell: all technical info is dropped."
      ]
    },
    {
      "cell_type": "code",
      "execution_count": 4,
      "metadata": {
        "collapsed": true,
        "colab": {
          "base_uri": "https://localhost:8080/"
        },
        "id": "cSjr4JwB1yP7",
        "outputId": "b83e9175-b5fa-47cd-fcba-a1ba109a814d"
      },
      "outputs": [
        {
          "output_type": "stream",
          "name": "stdout",
          "text": [
            "--2024-02-08 18:13:39--  https://raw.githubusercontent.com/girafe-ai/ml-course/23f_basic/homeworks/lab02_deep_learning/sonnets.txt\n",
            "Resolving raw.githubusercontent.com (raw.githubusercontent.com)... 185.199.108.133, 185.199.109.133, 185.199.110.133, ...\n",
            "Connecting to raw.githubusercontent.com (raw.githubusercontent.com)|185.199.108.133|:443... connected.\n",
            "HTTP request sent, awaiting response... 200 OK\n",
            "Length: 119748 (117K) [text/plain]\n",
            "Saving to: ‘sonnets.txt’\n",
            "\n",
            "\rsonnets.txt           0%[                    ]       0  --.-KB/s               \rsonnets.txt         100%[===================>] 116.94K  --.-KB/s    in 0.02s   \n",
            "\n",
            "2024-02-08 18:13:39 (4.96 MB/s) - ‘sonnets.txt’ saved [119748/119748]\n",
            "\n"
          ]
        }
      ],
      "source": [
        "if not os.path.exists('sonnets.txt'):\n",
        "    !wget https://raw.githubusercontent.com/girafe-ai/ml-course/23f_basic/homeworks/lab02_deep_learning/sonnets.txt\n",
        "\n",
        "with open('sonnets.txt', 'r') as iofile:\n",
        "    text = iofile.readlines()\n",
        "\n",
        "TEXT_START = 45\n",
        "TEXT_END = -368\n",
        "text = text[TEXT_START : TEXT_END]\n",
        "assert len(text) == 2616"
      ]
    },
    {
      "cell_type": "markdown",
      "metadata": {
        "id": "YSV7MMM91yP8"
      },
      "source": [
        "Let's reduce the complexity of the task and lowercase all the symbols."
      ]
    },
    {
      "cell_type": "code",
      "execution_count": 5,
      "metadata": {
        "colab": {
          "base_uri": "https://localhost:8080/"
        },
        "id": "4O1Wtsru1yP8",
        "outputId": "aa7d7b1a-dc2a-474c-af2d-7949add36b28"
      },
      "outputs": [
        {
          "output_type": "stream",
          "name": "stdout",
          "text": [
            "OK!\n"
          ]
        }
      ],
      "source": [
        "# Join all the strings into one and lowercase it\n",
        "# Put result into variable text.\n",
        "\n",
        "text = ''.join([x for x in text]).lower()\n",
        "\n",
        "assert len(text) == 100225, 'Are you sure you have concatenated all the strings?'\n",
        "assert not any([x in set(text) for x in string.ascii_uppercase]), 'Uppercase letters are present'\n",
        "print('OK!')"
      ]
    },
    {
      "cell_type": "markdown",
      "metadata": {
        "id": "winU24KN1yP-"
      },
      "source": [
        "Put all the characters, that we've seen in the text, into variable `tokens`."
      ]
    },
    {
      "cell_type": "code",
      "execution_count": 6,
      "metadata": {
        "id": "VVm5Aa2H1yP-"
      },
      "outputs": [],
      "source": [
        "tokens = sorted(set(text))"
      ]
    },
    {
      "cell_type": "markdown",
      "metadata": {
        "id": "yiRE1voB1yP-"
      },
      "source": [
        "Create dictionary `token_to_idx = {<char>: <index>}` and dictionary `idx_to_token = {<index>: <char>}`"
      ]
    },
    {
      "cell_type": "code",
      "execution_count": 7,
      "metadata": {
        "collapsed": true,
        "id": "dkTHQ1jY1yP-"
      },
      "outputs": [],
      "source": [
        "# dict <index>:<char>\n",
        "idx_to_token = {i: token for i, token in enumerate(tokens)}\n",
        "\n",
        "# dict <char>:<index>\n",
        "token_to_idx = {token: i for i, token in enumerate(tokens)}"
      ]
    },
    {
      "cell_type": "code",
      "source": [
        "sentences = []\n",
        "next_tokens = []\n",
        "for i in range(0, len(text) - 64, 1):\n",
        "    sentences.append(text[i : i + 64])\n",
        "    next_tokens.append(text[i + 64])\n",
        "\n",
        "x = np.zeros((len(sentences), 64, len(tokens)))\n",
        "y = np.zeros((len(sentences), len(tokens)))\n",
        "\n",
        "for i, sentence in enumerate(sentences):\n",
        "    for t, token in enumerate(sentence):\n",
        "        x[i, t, token_to_idx[token]] = 1\n",
        "    y[i, token_to_idx[next_tokens[i]]] = 1"
      ],
      "metadata": {
        "id": "HuVfk_Bg459-"
      },
      "execution_count": 8,
      "outputs": []
    },
    {
      "cell_type": "code",
      "source": [
        "print(x.shape)"
      ],
      "metadata": {
        "colab": {
          "base_uri": "https://localhost:8080/"
        },
        "id": "W9rFew4-47o3",
        "outputId": "b30b8ee7-fae0-4c5a-8b15-37124c7d2a59"
      },
      "execution_count": 9,
      "outputs": [
        {
          "output_type": "stream",
          "name": "stdout",
          "text": [
            "(100161, 64, 38)\n"
          ]
        }
      ]
    },
    {
      "cell_type": "markdown",
      "metadata": {
        "id": "MJbYd9Hs1yP-"
      },
      "source": [
        "### Building the model"
      ]
    },
    {
      "cell_type": "markdown",
      "metadata": {
        "id": "KUKPCm351yP_"
      },
      "source": [
        "Now we want to build and train recurrent neural net which would be able to something similar to Shakespeare's poetry.\n",
        "\n",
        "Let's use vanilla RNN"
      ]
    },
    {
      "cell_type": "code",
      "execution_count": 10,
      "metadata": {
        "collapsed": true,
        "id": "l5YXCEPU1yP_"
      },
      "outputs": [],
      "source": [
        "class RNN(nn.Module):\n",
        "    def __init__(self, n_tokens = len(tokens), hidden_dim = 128, emb_dim = 128, n_layers = 1):\n",
        "        super(RNN, self).__init__()\n",
        "        self.hidden_dim = hidden_dim\n",
        "        self.emb_dim = emb_dim\n",
        "        self.n_layers = n_layers\n",
        "        self.n_tokens = n_tokens\n",
        "\n",
        "        self.embed = nn.Embedding(n_tokens, self.emb_dim)\n",
        "        self.rnn = nn.RNN(self.emb_dim, self.hidden_dim, batch_first =  True)\n",
        "        self.dropout  = nn.Dropout(.35)\n",
        "        self.hid_to_logits = nn.Linear(self.hidden_dim, n_tokens)\n",
        "\n",
        "    def forward(self, x, h_prev):\n",
        "        h_seq, h = self.rnn(self.embed(x), h_prev)\n",
        "        h_seq = self.dropout(h_seq)\n",
        "        next_logits = self.hid_to_logits(h_seq)\n",
        "        return next_logits, h\n",
        "\n",
        "    def initial_state(self, batch_size):\n",
        "        weight = next(self.parameters()).data\n",
        "        return weight.new(self.n_layers, batch_size, self.hidden_dim).zero_().to(device)"
      ]
    },
    {
      "cell_type": "code",
      "source": [
        "def get_batches(x, y, device, batch_size, batch_ind):\n",
        "    x_batch = torch.argmax(torch.Tensor(x[batch_ind - batch_size : batch_ind]), dim = -1).to(device)\n",
        "    y_batch = torch.argmax(torch.Tensor(y[batch_ind - batch_size : batch_ind]), dim = -1).to(device)\n",
        "\n",
        "    return x_batch, y_batch"
      ],
      "metadata": {
        "id": "0RTRZBCR5Rz6"
      },
      "execution_count": 11,
      "outputs": []
    },
    {
      "cell_type": "code",
      "source": [
        "def train_model(model, epochs=100):\n",
        "    torch.manual_seed(7)\n",
        "    batch_size = 512\n",
        "    optimizer = torch.optim.Adam(model.parameters(), lr=1e-3)\n",
        "    criterion = nn.CrossEntropyLoss()\n",
        "    loss_history = []\n",
        "\n",
        "    model.train()\n",
        "\n",
        "    for epoch in range(1, epochs+1):\n",
        "        curr_loss = []\n",
        "        hidden_state = model.initial_state(batch_size)\n",
        "\n",
        "        for batch_ind in range(batch_size, x.shape[0], batch_size):\n",
        "            optimizer.zero_grad()\n",
        "            x_batch, y_batch = get_batches(x, y, device, batch_size, batch_ind)\n",
        "\n",
        "            optimizer.zero_grad()\n",
        "            seq, hidden_state = model(x_batch, hidden_state)\n",
        "            loss = criterion(seq[:, -1].contiguous(), y_batch.contiguous())\n",
        "            loss.backward()\n",
        "            optimizer.step()\n",
        "            curr_loss.append(loss.item())\n",
        "            hidden_state = hidden_state.detach()\n",
        "\n",
        "        loss_history.append(np.mean(curr_loss))\n",
        "        if epoch % 5 == 0:\n",
        "            print(f'epoch {epoch}')\n",
        "            print(f'loss {loss_history[-1]}')\n",
        "\n",
        "    #visualize\n",
        "    plt.figure(figsize=(18,7))\n",
        "    plt.plot(loss_history, label = 'loss')\n",
        "    plt.xlabel(\"epochs\")\n",
        "    plt.legend()\n",
        "    plt.show()"
      ],
      "metadata": {
        "id": "s9iFquzJ5VuU"
      },
      "execution_count": 12,
      "outputs": []
    },
    {
      "cell_type": "markdown",
      "metadata": {
        "id": "IQp_961q1yP_"
      },
      "source": [
        "Plot the loss function (axis X: number of epochs, axis Y: loss function)."
      ]
    },
    {
      "cell_type": "code",
      "execution_count": 13,
      "metadata": {
        "collapsed": true,
        "colab": {
          "base_uri": "https://localhost:8080/",
          "height": 984
        },
        "id": "pMNs2mov1yP_",
        "outputId": "559e7716-7614-4698-b4ea-4cbcb9f245e7"
      },
      "outputs": [
        {
          "output_type": "stream",
          "name": "stdout",
          "text": [
            "epoch 5\n",
            "loss 1.8748918398832664\n",
            "epoch 10\n",
            "loss 1.7851137827604244\n",
            "epoch 15\n",
            "loss 1.7421311329572629\n",
            "epoch 20\n",
            "loss 1.7091854725128566\n",
            "epoch 25\n",
            "loss 1.6888371204718566\n",
            "epoch 30\n",
            "loss 1.6720387684993254\n",
            "epoch 35\n",
            "loss 1.6601778788444324\n",
            "epoch 40\n",
            "loss 1.6506259533075185\n",
            "epoch 45\n",
            "loss 1.6403353416002713\n",
            "epoch 50\n",
            "loss 1.6311144657624073\n"
          ]
        },
        {
          "output_type": "display_data",
          "data": {
            "text/plain": [
              "<Figure size 1800x700 with 1 Axes>"
            ],
            "image/png": "[encoded data removed]"
          },
          "metadata": {}
        }
      ],
      "source": [
        "model_rnn = RNN()\n",
        "model_rnn.to(device)\n",
        "\n",
        "epochs = 50\n",
        "\n",
        "train_model(model_rnn, epochs)"
      ]
    },
    {
      "cell_type": "code",
      "execution_count": 14,
      "metadata": {
        "id": "jBUhdAos1yP_"
      },
      "outputs": [],
      "source": [
        "def generate_text(char_rnn, tokens = tokens, seed_phrase = 'darling, ', max_length = 100, temperature = 1., flag = False):\n",
        "    x_sequence = torch.Tensor([np.array([token_to_idx[token] for token in seed_phrase.lower()])]).to(device)\n",
        "    hid_state = char_rnn.initial_state(batch_size = 1)\n",
        "\n",
        "    if flag: hid_state = tuple([each.data for each in hid_state])\n",
        "\n",
        "    #start generating\n",
        "    for _ in range(max_length - len(seed_phrase)):\n",
        "        out, hid_state = char_rnn(torch.stack([x_sequence[:, -1].long()]), hid_state)\n",
        "        preds =  F.softmax(out / temperature, dim = -1).cpu().data.numpy().squeeze()\n",
        "        next_ix_ = np.random.choice(len(tokens), p = preds)\n",
        "        next_ix = torch.LongTensor([[next_ix_]])\n",
        "\n",
        "        x_sequence = torch.cat([x_sequence, next_ix.to(device)], dim = 1)\n",
        "\n",
        "    return ''.join([tokens[int(ix)] for ix in x_sequence.cpu().data.numpy()[0]])"
      ]
    },
    {
      "cell_type": "code",
      "execution_count": 15,
      "metadata": {
        "colab": {
          "base_uri": "https://localhost:8080/"
        },
        "id": "2VUQ9riZ1yP_",
        "outputId": "303767d2-1182-4da4-bd27-cf05fe5a6282"
      },
      "outputs": [
        {
          "output_type": "stream",
          "name": "stderr",
          "text": [
            "<ipython-input-14-e0185a019bab>:2: UserWarning: Creating a tensor from a list of numpy.ndarrays is extremely slow. Please consider converting the list to a single numpy.ndarray with numpy.array() before converting to a tensor. (Triggered internally at ../torch/csrc/utils/tensor_new.cpp:261.)\n",
            "  x_sequence = torch.Tensor([np.array([token_to_idx[token] for token in seed_phrase.lower()])]).to(device)\n"
          ]
        },
        {
          "output_type": "stream",
          "name": "stdout",
          "text": [
            "darling, love excade:\n",
            "    but mistance coefoly mobhings vares and that formey fell.\n",
            "   fate;\n",
            "  it dear that stalled fortane i atsequout wanded dear love twiese oser more what for hey thou meitied, froil trterpebmiin.\n",
            "\n",
            "  night's knownorress utlend,\n",
            "  where faire;\n",
            "  that i in of thy boey for vili\n",
            "\n",
            "  in pettain the tendels no eyes hnoos thy faivich from thee, but i polusing thou syounding; soll need my i love thee angeating gay not of lovess ere love seatttable,\n",
            "  but firest bube thou uster dewirn \n"
          ]
        }
      ],
      "source": [
        "model_rnn.eval()\n",
        "print(generate_text(char_rnn = model_rnn,  max_length = 500, temperature = 1.))"
      ]
    },
    {
      "cell_type": "markdown",
      "metadata": {
        "id": "YIIYQjSa1yP_"
      },
      "source": [
        "### More poetic model\n",
        "\n",
        "Let's use LSTM instead of vanilla RNN and compare the results."
      ]
    },
    {
      "cell_type": "code",
      "source": [
        "class LSTM (nn.Module):\n",
        "    def __init__(self, n_tokens = len(tokens), hidden_dim = 256, emb_dim = 128, n_layers = 1):\n",
        "        super(LSTM, self).__init__()\n",
        "        self.hidden_dim = hidden_dim\n",
        "        self.emb_dim = emb_dim\n",
        "        self.n_layers = n_layers\n",
        "        self.n_tokens = emb_dim\n",
        "        self.embed = nn.Embedding(n_tokens, self.emb_dim)\n",
        "        self.lstm = nn.LSTM(self.emb_dim, self.hidden_dim, batch_first =  True)\n",
        "        self.hid_to_logits = nn.Linear(self.hidden_dim, n_tokens)\n",
        "\n",
        "    def forward(self, x, hidden_state):\n",
        "        out, hidden_state = self.lstm(self.embed(x), hidden_state)\n",
        "        out = self.hid_to_logits(out)\n",
        "        return out, hidden_state\n",
        "\n",
        "    def initial_state(self, batch_size):\n",
        "        weight = next(self.parameters()).data\n",
        "        hidden = (weight.new(self.n_layers, batch_size, self.hidden_dim).zero_().to(device),\n",
        "        weight.new(self.n_layers, batch_size, self.hidden_dim).zero_().to(device))\n",
        "        return hidden"
      ],
      "metadata": {
        "id": "zkVzqxTq59EX"
      },
      "execution_count": 16,
      "outputs": []
    },
    {
      "cell_type": "code",
      "source": [
        "def train_model_lstm(model, epochs=100):\n",
        "    torch.manual_seed(7)\n",
        "    batch_size = 512\n",
        "    optimizer = torch.optim.Adam(model.parameters(), lr=1e-3)\n",
        "    criterion = nn.CrossEntropyLoss()\n",
        "    loss_history = []\n",
        "\n",
        "    model.train()\n",
        "\n",
        "    for epoch in range(1, epochs+1):\n",
        "        curr_loss = []\n",
        "        hidden_state = model.initial_state(batch_size)\n",
        "\n",
        "        for batch_ind in range(batch_size, x.shape[0], batch_size):\n",
        "            x_batch, y_batch = get_batches(x, y, device, batch_size, batch_ind)\n",
        "            hidden_state = tuple([each.data for each in hidden_state])\n",
        "\n",
        "            optimizer.zero_grad()\n",
        "            seq, hidden_state = model_lstm(x_batch, hidden_state)\n",
        "            loss = criterion(seq[:, -1].contiguous(), y_batch.contiguous())\n",
        "            loss.backward()\n",
        "            optimizer.step()\n",
        "            curr_loss.append(loss.item())\n",
        "\n",
        "        loss_history.append(np.mean(curr_loss))\n",
        "        if epoch % 5 == 0:\n",
        "            print(f'epoch {epoch}')\n",
        "            print(f'loss {loss_history[-1]}')\n",
        "\n",
        "    #visualize\n",
        "    plt.figure(figsize=(18,7))\n",
        "    plt.plot(loss_history, label = 'loss')\n",
        "    plt.xlabel(\"epochs\")\n",
        "    plt.legend()\n",
        "    plt.show()"
      ],
      "metadata": {
        "id": "ek-48fBE6AkO"
      },
      "execution_count": 17,
      "outputs": []
    },
    {
      "cell_type": "code",
      "source": [
        "model_lstm = LSTM()\n",
        "model_lstm.to(device)\n",
        "\n",
        "epochs = 50\n",
        "\n",
        "train_model_lstm(model_lstm, epochs)"
      ],
      "metadata": {
        "colab": {
          "base_uri": "https://localhost:8080/",
          "height": 984
        },
        "id": "_l9GuLOq6FEb",
        "outputId": "aed03b2a-18fd-47ea-d962-f7d4062be07e"
      },
      "execution_count": 18,
      "outputs": [
        {
          "output_type": "stream",
          "name": "stdout",
          "text": [
            "epoch 5\n",
            "loss 1.514732805887858\n",
            "epoch 10\n",
            "loss 1.3301099917827508\n",
            "epoch 15\n",
            "loss 1.2053706150788528\n",
            "epoch 20\n",
            "loss 1.0865384982182429\n",
            "epoch 25\n",
            "loss 0.9684581484550084\n",
            "epoch 30\n",
            "loss 0.8822192127888019\n",
            "epoch 35\n",
            "loss 0.8026916482509711\n",
            "epoch 40\n",
            "loss 0.7259531360406142\n",
            "epoch 45\n",
            "loss 0.6627356446706332\n",
            "epoch 50\n",
            "loss 0.6167711062309069\n"
          ]
        },
        {
          "output_type": "display_data",
          "data": {
            "text/plain": [
              "<Figure size 1800x700 with 1 Axes>"
            ],
            "image/png": "[encoded data removed]"
          },
          "metadata": {}
        }
      ]
    },
    {
      "cell_type": "markdown",
      "metadata": {
        "id": "LdVEvrNq1yQA"
      },
      "source": [
        "Now generate text using the trained net with different `temperature` parameter: `[0.1, 0.2, 0.5, 1.0, 2.0]`"
      ]
    },
    {
      "cell_type": "code",
      "execution_count": 19,
      "metadata": {
        "collapsed": true,
        "colab": {
          "base_uri": "https://localhost:8080/"
        },
        "id": "ZVcSDfNt1yQA",
        "outputId": "afdf6c6e-faa2-4146-9215-a18f72754867"
      },
      "outputs": [
        {
          "output_type": "stream",
          "name": "stdout",
          "text": [
            "TEMPERATURE =  0.1\n",
            "\t darling, truth so sun andress\n",
            "  to thy sweet self to love, when it flowers doth she,\n",
            "    and my sins and see where all thy self to self-say,\n",
            "  for therefore mistation thy sweet self doth lie,\n",
            "  which shall is and my poor love's will grown'd,\n",
            "  cannot be so any seat, for forgot as dead.\n",
            "\n",
            "  cxxxi\n",
            "\n",
            "  my love is as a fever longing still,\n",
            "  and sweet feast in my self thou dost hath her die,\n",
            "  to love,  \n",
            "\n",
            "TEMPERATURE =  0.2\n",
            "\t darling, true sight,\n",
            "  and sweet self to love, thy heart in thy deserts reason'd,\n",
            "  if it were in thy sinful loving thy sins,\n",
            "    so thou art make the world an endrour, which he dour'd with thy sweet,\n",
            "  that have present our false to art, and do should love to some is the stard\n",
            "  and surse before have was thy ransom allame,\n",
            "  and dead the light, when i have sweet die,\n",
            "  looking on their false shal \n",
            "\n",
            "TEMPERATURE =  0.5\n",
            "\t darling, truth so song.\n",
            "  if yet, love is as a nellow ad my part\n",
            "  or me thus express'd with too much strongly beauty new;\n",
            "  that hear what she waste of thy face shall is bonds,\n",
            "  and death common hath her chartration;\n",
            "  who hast thou this my love is as an allow?\n",
            "    thou live in possession be mine eyes from me within and weeds,\n",
            "    and my love she waster hold her memory patience.\n",
            "  looking still  \n",
            "\n",
            "TEMPERATURE =  1.0\n",
            "\t darling, phisom and her bud:\n",
            "  lorid matirach get nour's ill, it sur\n",
            "  to make or happy thy sweet state i thy sweet,\n",
            "  the sweaty? inconsant when so mad'st lies\n",
            "  or change she will shorser shall beauteous number's part\n",
            "  or my music to way,\n",
            "    and therefore is should to ruiner slaing, 'though no blence courly\n",
            "  eat her jearth upon it be contan's so;.\n",
            "    for this art as the sweet self to all,\n",
            "   \n",
            "\n",
            "TEMPERATURE =  2.0\n",
            "\t darling, yake-dsur;\n",
            "  rut, gevery larfinguling come;   my lever swear\n",
            "  thou tatty, liking then, withat we wibling?\n",
            "  if our! love,' dred, ectear, noe i mot kind;\n",
            "  ho ext'ret o wich ay would tanchxivi\n",
            "  thous, and i spayy thou bebdizuged true look!\n",
            "  ough-mowing werfty paid, by very part of thine eyes.\n",
            "  meti-mes not kill to coi;l mirack of coorrant knun!\n",
            "\n",
            "  civil'i gent thrilumence laud:\n",
            "  frues \n",
            "\n"
          ]
        }
      ],
      "source": [
        "model_lstm.eval()\n",
        "\n",
        "for temperature in [0.1, 0.2, 0.5, 1.0, 2.0]:\n",
        "    print(\"TEMPERATURE = \", temperature)\n",
        "    poetry = generate_text(char_rnn = model_lstm, temperature = temperature, max_length = 400, seed_phrase = \"Darling, \")\n",
        "\n",
        "    print('\\t', poetry, '\\n')"
      ]
    },
    {
      "cell_type": "markdown",
      "metadata": {
        "id": "xALwsg4o1yQA"
      },
      "source": [
        "### Saving and loading models"
      ]
    },
    {
      "cell_type": "markdown",
      "metadata": {
        "id": "RT92XqFR1yQA"
      },
      "source": [
        "Save the model to the disk, then load it and generate text. Examples are available [here](https://pytorch.org/tutorials/beginner/saving_loading_models.html])."
      ]
    },
    {
      "cell_type": "code",
      "execution_count": 20,
      "metadata": {
        "collapsed": true,
        "id": "pHGi2CBq1yQA"
      },
      "outputs": [],
      "source": [
        "def save_net(net, name: str, opt):\n",
        "    checkpoint = {'state_dict': net.state_dict(),\n",
        "                  'opt_state_dict': opt.state_dict()}\n",
        "\n",
        "    with open(name, 'wb') as f:\n",
        "        torch.save(checkpoint, f)"
      ]
    },
    {
      "cell_type": "code",
      "source": [
        "optimizer = torch.optim.Adam(model_lstm.parameters(), lr=0.001)\n",
        "save_net(model_lstm, \"LSTM.net\", optimizer)\n",
        "\n",
        "checkpoint = torch.load(\"LSTM.net\")\n",
        "model_lstm.load_state_dict(checkpoint['state_dict'])\n",
        "optimizer.load_state_dict(checkpoint['opt_state_dict'])\n",
        "model_lstm.eval()"
      ],
      "metadata": {
        "colab": {
          "base_uri": "https://localhost:8080/"
        },
        "id": "agComZo-667O",
        "outputId": "a456481e-3282-41fd-e2f0-777e822c95a2"
      },
      "execution_count": 21,
      "outputs": [
        {
          "output_type": "execute_result",
          "data": {
            "text/plain": [
              "LSTM(\n",
              "  (embed): Embedding(38, 128)\n",
              "  (lstm): LSTM(128, 256, batch_first=True)\n",
              "  (hid_to_logits): Linear(in_features=256, out_features=38, bias=True)\n",
              ")"
            ]
          },
          "metadata": {},
          "execution_count": 21
        }
      ]
    },
    {
      "cell_type": "code",
      "source": [
        "print(generate_text(char_rnn = model_lstm, temperature = 1., max_length = 450, seed_phrase = \"Darling! \"))"
      ],
      "metadata": {
        "colab": {
          "base_uri": "https://localhost:8080/"
        },
        "id": "6fr7BlaH68xR",
        "outputId": "c62ac5d1-8ef0-4452-a990-11ed8cd3b1a3"
      },
      "execution_count": 22,
      "outputs": [
        {
          "output_type": "stream",
          "name": "stdout",
          "text": [
            "darling! joy spends;\n",
            "  no longer hath hot have sweet love doth lines she starvethers upher:\n",
            "    all think thou hast anwaste of lines that lover's dearest,\n",
            "  in purest haste my costs, now is thou art forsworn down.\n",
            "  to mar the world, or imperfect love to love.\n",
            "    there-beren im seemily with true hearts should:\n",
            "  they moursh with worses not to pen might it all forsee,\n",
            "  do not be so found the liken some in these will'd,\n",
            "  and i strength and thee \n"
          ]
        }
      ]
    },
    {
      "cell_type": "markdown",
      "metadata": {
        "id": "jnarjuSR1yQA"
      },
      "source": [
        "### References\n",
        "1. <a href='http://karpathy.github.io/2015/05/21/rnn-effectiveness/'> Andrew Karpathy blog post about RNN. </a>\n",
        "There are several examples of genration: Shakespeare texts, Latex formulas, Linux Sourse Code and children names.\n",
        "2. <a href='https://github.com/karpathy/char-rnn'> Repo with char-rnn code </a>\n",
        "3. Cool repo with PyTorch examples: [link](https://github.com/spro/practical-pytorch`)"
      ]
    }
  ],
  "metadata": {
    "anaconda-cloud": {},
    "kernelspec": {
      "display_name": "Python 3",
      "name": "python3"
    },
    "language_info": {
      "codemirror_mode": {
        "name": "ipython",
        "version": 3
      },
      "file_extension": ".py",
      "mimetype": "text/x-python",
      "name": "python",
      "nbconvert_exporter": "python",
      "pygments_lexer": "ipython3",
      "version": "3.7.7"
    },
    "colab": {
      "provenance": [],
      "gpuType": "T4"
    },
    "accelerator": "GPU"
  },
  "nbformat": 4,
  "nbformat_minor": 0
}