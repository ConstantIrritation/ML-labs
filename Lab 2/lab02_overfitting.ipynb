{
  "cells": [
    {
      "cell_type": "markdown",
      "metadata": {
        "id": "NFmOh482SyEF"
      },
      "source": [
        "## Lab 2\n",
        "### Dealing with overfitting"
      ]
    },
    {
      "cell_type": "markdown",
      "metadata": {
        "id": "AjzAuO3oSvsI"
      },
      "source": [
        "Today we work with [Fashion-MNIST dataset](https://github.com/zalandoresearch/fashion-mnist) (*hint: it is available in `torchvision`*).\n",
        "\n",
        "Our goal for today:\n",
        "1. Train a FC network that achieves >= 0.885 test accuracy.\n",
        "2. Cause considerable overfitting by modifying the network and demonstrate it in the appropriate way.\n",
        "3. Try to deal with overfitting (at least partially) by using regularization techniques and demonstrate the results.\n"
      ]
    },
    {
      "cell_type": "code",
      "execution_count": null,
      "metadata": {
        "id": "_KBld6VOSwhW"
      },
      "outputs": [],
      "source": [
        "import torch\n",
        "import torch.nn as nn\n",
        "from time import time\n",
        "from tqdm import tqdm\n",
        "import torchvision\n",
        "import torchvision.transforms as transforms\n",
        "import torchsummary\n",
        "from IPython.display import clear_output\n",
        "from matplotlib import pyplot as plt\n",
        "from matplotlib.pyplot import figure\n",
        "import numpy as np\n",
        "import os\n",
        "\n",
        "\n",
        "device = 'cuda:0' if torch.cuda.is_available() else 'cpu'"
      ]
    },
    {
      "cell_type": "code",
      "execution_count": null,
      "metadata": {
        "colab": {
          "base_uri": "https://localhost:8080/",
          "height": 35
        },
        "id": "EdLOG0XqS_g5",
        "outputId": "1a58887c-24fc-4315-bb85-bdc88f4f485e"
      },
      "outputs": [
        {
          "name": "stdout",
          "output_type": "stream",
          "text": [
            "Directory fmnist already exists!\n"
          ]
        }
      ],
      "source": [
        "# Technical function\n",
        "def mkdir(path):\n",
        "    if not os.path.exists(root_path):\n",
        "        os.mkdir(root_path)\n",
        "        print('Directory', path, 'is created!')\n",
        "    else:\n",
        "        print('Directory', path, 'already exists!')\n",
        "\n",
        "root_path = 'fmnist'\n",
        "mkdir(root_path)"
      ]
    },
    {
      "cell_type": "code",
      "execution_count": null,
      "metadata": {
        "id": "qt6LE7XaTDT9"
      },
      "outputs": [],
      "source": [
        "download = True\n",
        "train_transform = transforms.ToTensor()\n",
        "test_transform = transforms.ToTensor()\n",
        "transforms.Compose((transforms.ToTensor()))\n",
        "\n",
        "\n",
        "fmnist_dataset_train = torchvision.datasets.FashionMNIST(root_path,\n",
        "                                                        train=True,\n",
        "                                                        transform=train_transform,\n",
        "                                                        target_transform=None,\n",
        "                                                        download=download)\n",
        "fmnist_dataset_test = torchvision.datasets.FashionMNIST(root_path,\n",
        "                                                       train=False,\n",
        "                                                       transform=test_transform,\n",
        "                                                       target_transform=None,\n",
        "                                                       download=download)"
      ]
    },
    {
      "cell_type": "code",
      "execution_count": null,
      "metadata": {
        "id": "71YP0SPwTIxD"
      },
      "outputs": [],
      "source": [
        "train_loader = torch.utils.data.DataLoader(fmnist_dataset_train,\n",
        "                                           batch_size=128,\n",
        "                                           shuffle=True,\n",
        "                                           num_workers=2)\n",
        "test_loader = torch.utils.data.DataLoader(fmnist_dataset_test,\n",
        "                                          batch_size=256,\n",
        "                                          shuffle=False,\n",
        "                                          num_workers=2)"
      ]
    },
    {
      "cell_type": "code",
      "execution_count": null,
      "metadata": {
        "colab": {
          "base_uri": "https://localhost:8080/",
          "height": 35
        },
        "id": "v_YFmF7NTWrQ",
        "outputId": "6b517f52-5fc5-482e-cc8e-cd6b3f1b72f1"
      },
      "outputs": [
        {
          "data": {
            "text/plain": [
              "10000"
            ]
          },
          "execution_count": 5,
          "metadata": {},
          "output_type": "execute_result"
        }
      ],
      "source": [
        "len(fmnist_dataset_test)"
      ]
    },
    {
      "cell_type": "code",
      "execution_count": null,
      "metadata": {
        "colab": {
          "base_uri": "https://localhost:8080/",
          "height": 71
        },
        "id": "aHca15bOTY4B",
        "outputId": "7eb477ef-816d-418c-f5c3-ade63d4cf915"
      },
      "outputs": [
        {
          "name": "stdout",
          "output_type": "stream",
          "text": [
            "torch.Size([128, 1, 28, 28])\n",
            "torch.Size([128])\n",
            "128\n"
          ]
        }
      ],
      "source": [
        "for img, label in train_loader:\n",
        "    print(img.shape)\n",
        "#    print(img)\n",
        "    print(label.shape)\n",
        "    print(label.size(0))\n",
        "    break"
      ]
    },
    {
      "cell_type": "markdown",
      "metadata": {
        "id": "b6OOOffHTfX5"
      },
      "source": [
        "### Task 1\n",
        "Train a network that achieves $\\geq 0.885$ test accuracy. It's fine to use only Linear (`nn.Linear`) layers and activations/dropout/batchnorm. Convolutional layers might be a great use, but we will meet them a bit later."
      ]
    },
    {
      "cell_type": "code",
      "execution_count": null,
      "metadata": {
        "id": "ftpkTjxlTcFx"
      },
      "outputs": [],
      "source": [
        "class TinyNeuralNetwork(nn.Module):\n",
        "    def __init__(self, input_shape=28*28, num_classes=10, input_channels=1):\n",
        "        super(self.__class__, self).__init__()\n",
        "        self.model = nn.Sequential(\n",
        "            nn.Flatten(), # This layer converts image into a vector to use Linear layers afterwards\n",
        "\n",
        "            nn.Linear(input_shape, input_shape // 2),\n",
        "            nn.BatchNorm1d(input_shape // 2, eps=1e-5),\n",
        "            nn.ReLU(),\n",
        "            nn.Linear(input_shape // 2, input_shape // 4),\n",
        "            nn.ReLU(),\n",
        "            nn.Linear(input_shape // 4, num_classes),\n",
        "            nn.Dropout(0.5),\n",
        "            nn.LogSoftmax(dim=1)\n",
        "        )\n",
        "\n",
        "    def forward(self, inp):\n",
        "        out = self.model(inp)\n",
        "        return out"
      ]
    },
    {
      "cell_type": "code",
      "execution_count": null,
      "metadata": {
        "id": "176EF3wzvxAj",
        "outputId": "865af5ee-50b5-462f-c76f-05ce8e930356"
      },
      "outputs": [
        {
          "name": "stdout",
          "output_type": "stream",
          "text": [
            "----------------------------------------------------------------\n",
            "        Layer (type)               Output Shape         Param #\n",
            "================================================================\n",
            "           Flatten-1                  [-1, 784]               0\n",
            "           Flatten-2                  [-1, 784]               0\n",
            "            Linear-3                  [-1, 392]         307,720\n",
            "       BatchNorm1d-4                  [-1, 392]             784\n",
            "              ReLU-5                  [-1, 392]               0\n",
            "            Linear-6                  [-1, 196]          77,028\n",
            "              ReLU-7                  [-1, 196]               0\n",
            "            Linear-8                   [-1, 10]           1,970\n",
            "           Dropout-9                   [-1, 10]               0\n",
            "       LogSoftmax-10                   [-1, 10]               0\n",
            "================================================================\n",
            "Total params: 387,502\n",
            "Trainable params: 387,502\n",
            "Non-trainable params: 0\n",
            "----------------------------------------------------------------\n",
            "Input size (MB): 0.00\n",
            "Forward/backward pass size (MB): 0.02\n",
            "Params size (MB): 1.48\n",
            "Estimated Total Size (MB): 1.51\n",
            "----------------------------------------------------------------\n"
          ]
        }
      ],
      "source": [
        "torchsummary.summary(TinyNeuralNetwork().to(device), (28*28,))"
      ]
    },
    {
      "cell_type": "markdown",
      "metadata": {
        "id": "544PGKEnjPr5"
      },
      "source": [
        "Your experiments come here:"
      ]
    },
    {
      "cell_type": "code",
      "execution_count": null,
      "metadata": {
        "colab": {
          "base_uri": "https://localhost:8080/",
          "height": 607
        },
        "id": "i3POFj90Ti-6",
        "outputId": "82e7e921-541b-4657-f78d-563de48b07c7"
      },
      "outputs": [
        {
          "name": "stdout",
          "output_type": "stream",
          "text": [
            "TinyNeuralNetwork(\n",
            "  (model): Sequential(\n",
            "    (0): Flatten(start_dim=1, end_dim=-1)\n",
            "    (1): Flatten(start_dim=1, end_dim=-1)\n",
            "    (2): Linear(in_features=784, out_features=392, bias=True)\n",
            "    (3): BatchNorm1d(392, eps=1e-05, momentum=0.1, affine=True, track_running_stats=True)\n",
            "    (4): ReLU()\n",
            "    (5): Linear(in_features=392, out_features=196, bias=True)\n",
            "    (6): ReLU()\n",
            "    (7): Linear(in_features=196, out_features=10, bias=True)\n",
            "    (8): Dropout(p=0.5, inplace=False)\n",
            "    (9): LogSoftmax(dim=1)\n",
            "  )\n",
            ")\n"
          ]
        }
      ],
      "source": [
        "model = TinyNeuralNetwork().to(device)\n",
        "opt = torch.optim.Adam(model.parameters(), lr=0.01)\n",
        "loss_func = nn.CrossEntropyLoss()\n",
        "\n",
        "print(model)"
      ]
    },
    {
      "cell_type": "code",
      "execution_count": null,
      "metadata": {
        "id": "OvjZtC8ZvxAk"
      },
      "outputs": [],
      "source": [
        "def validate_one_epoch(net, test_loader, criterion):\n",
        "    net.eval()\n",
        "    loss_history = []\n",
        "    acc_history = []\n",
        "    with torch.no_grad():\n",
        "        for x_batch, y_batch in test_loader:\n",
        "            X_batch = x_batch.to(device)\n",
        "            Y_batch = y_batch.to(device)\n",
        "\n",
        "            # Forward\n",
        "            predictions = net.forward(X_batch)\n",
        "            loss = criterion(predictions, Y_batch)\n",
        "\n",
        "            loss_history.append(loss.item())\n",
        "            acc_history.append((torch.argmax(predictions, dim=1) == Y_batch).cpu().numpy().mean())\n",
        "    return np.mean(loss_history), np.mean(acc_history)"
      ]
    },
    {
      "cell_type": "code",
      "execution_count": null,
      "metadata": {
        "id": "WJbnxkJGvxAk"
      },
      "outputs": [],
      "source": [
        "def train_one_epoch(net, train_loader, criterion, optimizer):\n",
        "    net.train()\n",
        "    loss_history = []\n",
        "    for x_batch, y_batch in train_loader:\n",
        "        optimizer.zero_grad()\n",
        "        X_batch = x_batch.to(device)\n",
        "        Y_batch = y_batch.to(device)\n",
        "\n",
        "        # Forward\n",
        "        predictions = net.forward(X_batch)\n",
        "        loss = criterion(predictions, Y_batch)\n",
        "\n",
        "        # Backward\n",
        "        loss.backward()\n",
        "        loss_history.append(loss.item())\n",
        "\n",
        "        optimizer.step()\n",
        "\n",
        "    return np.mean(loss_history)"
      ]
    },
    {
      "cell_type": "code",
      "execution_count": null,
      "metadata": {
        "id": "Pf-5bARnvxAk"
      },
      "outputs": [],
      "source": [
        "def train(train_loader, test_loader, net, optimizer, criterion, n_epoch = 30):\n",
        "    times = []\n",
        "    train_loss_history = []\n",
        "    test_loss_history = []\n",
        "    accuracy_history = []\n",
        "    start_time = time()\n",
        "\n",
        "    for i in range(n_epoch):\n",
        "        epoch_train_loss = train_one_epoch(net, train_loader, criterion, optimizer)\n",
        "        epoch_test_loss, epoch_accuracy = validate_one_epoch(net, test_loader, criterion)\n",
        "\n",
        "        train_loss_history.append(epoch_train_loss)\n",
        "        test_loss_history.append(epoch_test_loss)\n",
        "        accuracy_history.append(epoch_accuracy)\n",
        "        times.append(time() - start_time)\n",
        "        print(f'epoch: {i}, accuracy: {accuracy_history[-1]}')\n",
        "\n",
        "    return train_loss_history, test_loss_history, accuracy_history"
      ]
    },
    {
      "cell_type": "code",
      "execution_count": null,
      "metadata": {
        "id": "RO7-xQRpvxAk",
        "outputId": "b83ecef4-39f9-43c9-97c1-d987069db4ce"
      },
      "outputs": [
        {
          "name": "stderr",
          "output_type": "stream",
          "text": [
            "  3%|█▍                                          | 1/30 [00:08<04:01,  8.34s/it]"
          ]
        },
        {
          "name": "stdout",
          "output_type": "stream",
          "text": [
            "epoch: 0, accuracy: 0.8388671875\n"
          ]
        },
        {
          "name": "stderr",
          "output_type": "stream",
          "text": [
            "  7%|██▉                                         | 2/30 [00:17<04:05,  8.77s/it]"
          ]
        },
        {
          "name": "stdout",
          "output_type": "stream",
          "text": [
            "epoch: 1, accuracy: 0.858203125\n"
          ]
        },
        {
          "name": "stderr",
          "output_type": "stream",
          "text": [
            " 10%|████▍                                       | 3/30 [00:26<03:57,  8.79s/it]"
          ]
        },
        {
          "name": "stdout",
          "output_type": "stream",
          "text": [
            "epoch: 2, accuracy: 0.86376953125\n"
          ]
        },
        {
          "name": "stderr",
          "output_type": "stream",
          "text": [
            " 13%|█████▊                                      | 4/30 [00:34<03:43,  8.59s/it]"
          ]
        },
        {
          "name": "stdout",
          "output_type": "stream",
          "text": [
            "epoch: 3, accuracy: 0.84638671875\n"
          ]
        },
        {
          "name": "stderr",
          "output_type": "stream",
          "text": [
            " 17%|███████▎                                    | 5/30 [00:43<03:34,  8.58s/it]"
          ]
        },
        {
          "name": "stdout",
          "output_type": "stream",
          "text": [
            "epoch: 4, accuracy: 0.86865234375\n"
          ]
        },
        {
          "name": "stderr",
          "output_type": "stream",
          "text": [
            " 20%|████████▊                                   | 6/30 [00:52<03:31,  8.80s/it]"
          ]
        },
        {
          "name": "stdout",
          "output_type": "stream",
          "text": [
            "epoch: 5, accuracy: 0.876953125\n"
          ]
        },
        {
          "name": "stderr",
          "output_type": "stream",
          "text": [
            " 23%|██████████▎                                 | 7/30 [01:01<03:24,  8.90s/it]"
          ]
        },
        {
          "name": "stdout",
          "output_type": "stream",
          "text": [
            "epoch: 6, accuracy: 0.874609375\n"
          ]
        },
        {
          "name": "stderr",
          "output_type": "stream",
          "text": [
            " 27%|███████████▋                                | 8/30 [01:09<03:11,  8.70s/it]"
          ]
        },
        {
          "name": "stdout",
          "output_type": "stream",
          "text": [
            "epoch: 7, accuracy: 0.8759765625\n"
          ]
        },
        {
          "name": "stderr",
          "output_type": "stream",
          "text": [
            " 30%|█████████████▏                              | 9/30 [01:17<02:59,  8.55s/it]"
          ]
        },
        {
          "name": "stdout",
          "output_type": "stream",
          "text": [
            "epoch: 8, accuracy: 0.87744140625\n"
          ]
        },
        {
          "name": "stderr",
          "output_type": "stream",
          "text": [
            " 33%|██████████████▎                            | 10/30 [01:26<02:50,  8.54s/it]"
          ]
        },
        {
          "name": "stdout",
          "output_type": "stream",
          "text": [
            "epoch: 9, accuracy: 0.87158203125\n"
          ]
        },
        {
          "name": "stderr",
          "output_type": "stream",
          "text": [
            " 37%|███████████████▊                           | 11/30 [01:34<02:41,  8.52s/it]"
          ]
        },
        {
          "name": "stdout",
          "output_type": "stream",
          "text": [
            "epoch: 10, accuracy: 0.879296875\n"
          ]
        },
        {
          "name": "stderr",
          "output_type": "stream",
          "text": [
            " 40%|█████████████████▏                         | 12/30 [01:43<02:35,  8.61s/it]"
          ]
        },
        {
          "name": "stdout",
          "output_type": "stream",
          "text": [
            "epoch: 11, accuracy: 0.8833984375\n"
          ]
        },
        {
          "name": "stderr",
          "output_type": "stream",
          "text": [
            " 43%|██████████████████▋                        | 13/30 [01:52<02:26,  8.62s/it]"
          ]
        },
        {
          "name": "stdout",
          "output_type": "stream",
          "text": [
            "epoch: 12, accuracy: 0.87978515625\n"
          ]
        },
        {
          "name": "stderr",
          "output_type": "stream",
          "text": [
            " 47%|████████████████████                       | 14/30 [02:00<02:16,  8.55s/it]"
          ]
        },
        {
          "name": "stdout",
          "output_type": "stream",
          "text": [
            "epoch: 13, accuracy: 0.88046875\n"
          ]
        },
        {
          "name": "stderr",
          "output_type": "stream",
          "text": [
            " 50%|█████████████████████▌                     | 15/30 [02:09<02:08,  8.59s/it]"
          ]
        },
        {
          "name": "stdout",
          "output_type": "stream",
          "text": [
            "epoch: 14, accuracy: 0.88916015625\n"
          ]
        },
        {
          "name": "stderr",
          "output_type": "stream",
          "text": [
            " 53%|██████████████████████▉                    | 16/30 [02:18<02:00,  8.61s/it]"
          ]
        },
        {
          "name": "stdout",
          "output_type": "stream",
          "text": [
            "epoch: 15, accuracy: 0.88291015625\n"
          ]
        },
        {
          "name": "stderr",
          "output_type": "stream",
          "text": [
            " 57%|████████████████████████▎                  | 17/30 [02:26<01:51,  8.54s/it]"
          ]
        },
        {
          "name": "stdout",
          "output_type": "stream",
          "text": [
            "epoch: 16, accuracy: 0.87841796875\n"
          ]
        },
        {
          "name": "stderr",
          "output_type": "stream",
          "text": [
            " 60%|█████████████████████████▊                 | 18/30 [02:34<01:41,  8.49s/it]"
          ]
        },
        {
          "name": "stdout",
          "output_type": "stream",
          "text": [
            "epoch: 17, accuracy: 0.8763671875\n"
          ]
        },
        {
          "name": "stderr",
          "output_type": "stream",
          "text": [
            " 63%|███████████████████████████▏               | 19/30 [02:43<01:34,  8.60s/it]"
          ]
        },
        {
          "name": "stdout",
          "output_type": "stream",
          "text": [
            "epoch: 18, accuracy: 0.88662109375\n"
          ]
        },
        {
          "name": "stderr",
          "output_type": "stream",
          "text": [
            " 67%|████████████████████████████▋              | 20/30 [02:52<01:26,  8.64s/it]"
          ]
        },
        {
          "name": "stdout",
          "output_type": "stream",
          "text": [
            "epoch: 19, accuracy: 0.88486328125\n"
          ]
        },
        {
          "name": "stderr",
          "output_type": "stream",
          "text": [
            " 70%|██████████████████████████████             | 21/30 [03:01<01:17,  8.65s/it]"
          ]
        },
        {
          "name": "stdout",
          "output_type": "stream",
          "text": [
            "epoch: 20, accuracy: 0.878125\n"
          ]
        },
        {
          "name": "stderr",
          "output_type": "stream",
          "text": [
            " 73%|███████████████████████████████▌           | 22/30 [03:09<01:09,  8.64s/it]"
          ]
        },
        {
          "name": "stdout",
          "output_type": "stream",
          "text": [
            "epoch: 21, accuracy: 0.87314453125\n"
          ]
        },
        {
          "name": "stderr",
          "output_type": "stream",
          "text": [
            " 77%|████████████████████████████████▉          | 23/30 [03:18<01:00,  8.66s/it]"
          ]
        },
        {
          "name": "stdout",
          "output_type": "stream",
          "text": [
            "epoch: 22, accuracy: 0.8794921875\n"
          ]
        },
        {
          "name": "stderr",
          "output_type": "stream",
          "text": [
            " 80%|██████████████████████████████████▍        | 24/30 [03:27<00:52,  8.79s/it]"
          ]
        },
        {
          "name": "stdout",
          "output_type": "stream",
          "text": [
            "epoch: 23, accuracy: 0.88857421875\n"
          ]
        },
        {
          "name": "stderr",
          "output_type": "stream",
          "text": [
            " 83%|███████████████████████████████████▊       | 25/30 [03:36<00:44,  8.96s/it]"
          ]
        },
        {
          "name": "stdout",
          "output_type": "stream",
          "text": [
            "epoch: 24, accuracy: 0.89033203125\n"
          ]
        },
        {
          "name": "stderr",
          "output_type": "stream",
          "text": [
            " 87%|█████████████████████████████████████▎     | 26/30 [03:46<00:36,  9.13s/it]"
          ]
        },
        {
          "name": "stdout",
          "output_type": "stream",
          "text": [
            "epoch: 25, accuracy: 0.89208984375\n"
          ]
        },
        {
          "name": "stderr",
          "output_type": "stream",
          "text": [
            " 90%|██████████████████████████████████████▋    | 27/30 [03:56<00:27,  9.29s/it]"
          ]
        },
        {
          "name": "stdout",
          "output_type": "stream",
          "text": [
            "epoch: 26, accuracy: 0.87861328125\n"
          ]
        },
        {
          "name": "stderr",
          "output_type": "stream",
          "text": [
            " 93%|████████████████████████████████████████▏  | 28/30 [04:05<00:18,  9.26s/it]"
          ]
        },
        {
          "name": "stdout",
          "output_type": "stream",
          "text": [
            "epoch: 27, accuracy: 0.8865234375\n"
          ]
        },
        {
          "name": "stderr",
          "output_type": "stream",
          "text": [
            " 97%|█████████████████████████████████████████▌ | 29/30 [04:13<00:09,  9.08s/it]"
          ]
        },
        {
          "name": "stdout",
          "output_type": "stream",
          "text": [
            "epoch: 28, accuracy: 0.88525390625\n"
          ]
        },
        {
          "name": "stderr",
          "output_type": "stream",
          "text": [
            "100%|███████████████████████████████████████████| 30/30 [04:22<00:00,  8.75s/it]"
          ]
        },
        {
          "name": "stdout",
          "output_type": "stream",
          "text": [
            "epoch: 29, accuracy: 0.88271484375\n"
          ]
        },
        {
          "name": "stderr",
          "output_type": "stream",
          "text": [
            "\n"
          ]
        }
      ],
      "source": [
        "train_loss_history, test_loss_history, accuracy_history = train(train_loader, test_loader, model, opt, loss_func)"
      ]
    },
    {
      "cell_type": "code",
      "execution_count": null,
      "metadata": {
        "id": "BauyhmZGvxAk",
        "outputId": "3aa64c3e-6ad1-4e75-ee24-d260a47c7509"
      },
      "outputs": [
        {
          "data": {
            "image/png": "[encoded data removed]",
            "text/plain": [
              "<Figure size 640x480 with 1 Axes>"
            ]
          },
          "metadata": {},
          "output_type": "display_data"
        }
      ],
      "source": [
        "plt.plot(np.arange(len(train_loss_history)), train_loss_history, label = 'train')\n",
        "plt.plot(np.arange(len(test_loss_history)), test_loss_history, label = 'test')\n",
        "plt.title('Loss')\n",
        "plt.xlabel(\"epoch\")\n",
        "plt.ylabel(\"loss function\")\n",
        "plt.legend()\n",
        "plt.show()"
      ]
    },
    {
      "cell_type": "code",
      "execution_count": null,
      "metadata": {
        "id": "eAc5w0WkvxAk",
        "outputId": "926caf5d-a705-4967-bccd-671d8c96377a"
      },
      "outputs": [
        {
          "data": {
            "image/png": "[encoded data removed]",
            "text/plain": [
              "<Figure size 640x480 with 1 Axes>"
            ]
          },
          "metadata": {},
          "output_type": "display_data"
        }
      ],
      "source": [
        "plt.plot(np.arange(len(accuracy_history)), accuracy_history)\n",
        "plt.axhline(y=0.885, color = 'r')\n",
        "plt.title('Accuracy')\n",
        "plt.xlabel(\"epoch\")\n",
        "plt.ylabel(\"accuracy\")\n",
        "plt.show()"
      ]
    },
    {
      "cell_type": "markdown",
      "metadata": {
        "id": "SVhbBp0lvxAl"
      },
      "source": [
        "We achieve the required accuracy after a certain number of epochs.\n",
        "As for the loss function - there is a significant difference between test and train and test is smaller - most likely we have underfitting here"
      ]
    },
    {
      "cell_type": "markdown",
      "metadata": {
        "id": "L7ISqkjmCPB1"
      },
      "source": [
        "### Task 2: Overfit it.\n",
        "Let's build a network that will overfit to this dataset and demonstrate the overfitting in the appropriate way"
      ]
    },
    {
      "cell_type": "code",
      "execution_count": null,
      "metadata": {
        "id": "H12uAWiGBwJx"
      },
      "outputs": [],
      "source": [
        "class OverfittingNeuralNetwork(nn.Module):\n",
        "    def __init__(self, input_shape=28*28, num_classes=10, input_channels=1):\n",
        "        super(self.__class__, self).__init__()\n",
        "        self.model = nn.Sequential(\n",
        "            nn.Flatten(), # This layer converts image into a vector to use Linear layers afterwards\n",
        "\n",
        "            nn.Linear(input_shape, input_shape // 2),\n",
        "            nn.ReLU(),\n",
        "            nn.Linear(input_shape // 2, input_shape // 4),\n",
        "            nn.ReLU(),\n",
        "            nn.Linear(input_shape // 4, num_classes),\n",
        "            nn.LogSoftmax(dim=1)\n",
        "        )\n",
        "\n",
        "    def forward(self, inp):\n",
        "        out = self.model(inp)\n",
        "        return out"
      ]
    },
    {
      "cell_type": "code",
      "execution_count": null,
      "metadata": {
        "colab": {
          "base_uri": "https://localhost:8080/",
          "height": 449
        },
        "id": "JgXAKCpvCwqH",
        "outputId": "8d29ad18-3f0c-4161-8bcd-004d24ba771c"
      },
      "outputs": [
        {
          "name": "stdout",
          "output_type": "stream",
          "text": [
            "----------------------------------------------------------------\n",
            "        Layer (type)               Output Shape         Param #\n",
            "================================================================\n",
            "           Flatten-1                  [-1, 784]               0\n",
            "            Linear-2                  [-1, 392]         307,720\n",
            "              ReLU-3                  [-1, 392]               0\n",
            "            Linear-4                  [-1, 196]          77,028\n",
            "              ReLU-5                  [-1, 196]               0\n",
            "            Linear-6                   [-1, 10]           1,970\n",
            "        LogSoftmax-7                   [-1, 10]               0\n",
            "================================================================\n",
            "Total params: 386,718\n",
            "Trainable params: 386,718\n",
            "Non-trainable params: 0\n",
            "----------------------------------------------------------------\n",
            "Input size (MB): 0.00\n",
            "Forward/backward pass size (MB): 0.02\n",
            "Params size (MB): 1.48\n",
            "Estimated Total Size (MB): 1.49\n",
            "----------------------------------------------------------------\n"
          ]
        }
      ],
      "source": [
        "torchsummary.summary(OverfittingNeuralNetwork().to(device), (28*28,))"
      ]
    },
    {
      "cell_type": "code",
      "execution_count": null,
      "metadata": {
        "id": "oxR4n7PmvxAl"
      },
      "outputs": [],
      "source": [
        "model = OverfittingNeuralNetwork().to(device)\n",
        "opt = torch.optim.Adam(model.parameters(), lr=0.01)\n",
        "loss_func = nn.CrossEntropyLoss()"
      ]
    },
    {
      "cell_type": "code",
      "execution_count": null,
      "metadata": {
        "id": "6V37dRdCvxAl",
        "outputId": "deff7daf-be04-4d45-c21b-b7cf73d4fec0"
      },
      "outputs": [
        {
          "name": "stdout",
          "output_type": "stream",
          "text": [
            "epoch: 0, accuracy: 0.831640625\n",
            "epoch: 1, accuracy: 0.8556640625\n",
            "epoch: 2, accuracy: 0.84326171875\n",
            "epoch: 3, accuracy: 0.843359375\n",
            "epoch: 4, accuracy: 0.8677734375\n",
            "epoch: 5, accuracy: 0.86162109375\n",
            "epoch: 6, accuracy: 0.8673828125\n",
            "epoch: 7, accuracy: 0.86669921875\n",
            "epoch: 8, accuracy: 0.86201171875\n",
            "epoch: 9, accuracy: 0.866015625\n",
            "epoch: 10, accuracy: 0.87255859375\n",
            "epoch: 11, accuracy: 0.8654296875\n",
            "epoch: 12, accuracy: 0.8658203125\n",
            "epoch: 13, accuracy: 0.8705078125\n",
            "epoch: 14, accuracy: 0.8767578125\n",
            "epoch: 15, accuracy: 0.86884765625\n",
            "epoch: 16, accuracy: 0.86455078125\n",
            "epoch: 17, accuracy: 0.872265625\n",
            "epoch: 18, accuracy: 0.87138671875\n",
            "epoch: 19, accuracy: 0.867578125\n",
            "epoch: 20, accuracy: 0.86904296875\n",
            "epoch: 21, accuracy: 0.8671875\n",
            "epoch: 22, accuracy: 0.869140625\n",
            "epoch: 23, accuracy: 0.86044921875\n",
            "epoch: 24, accuracy: 0.87587890625\n",
            "epoch: 25, accuracy: 0.879296875\n",
            "epoch: 26, accuracy: 0.86884765625\n",
            "epoch: 27, accuracy: 0.86767578125\n",
            "epoch: 28, accuracy: 0.876171875\n",
            "epoch: 29, accuracy: 0.87021484375\n"
          ]
        }
      ],
      "source": [
        "train_loss_history, test_loss_history, accuracy_history = train(train_loader, test_loader, model, opt, loss_func)"
      ]
    },
    {
      "cell_type": "code",
      "execution_count": null,
      "metadata": {
        "id": "kAG37P_fvxAm",
        "outputId": "45ad5d72-3ffb-4069-966c-d69f9efb399b"
      },
      "outputs": [
        {
          "data": {
            "image/png": "[encoded data removed]",
            "text/plain": [
              "<Figure size 640x480 with 1 Axes>"
            ]
          },
          "metadata": {},
          "output_type": "display_data"
        }
      ],
      "source": [
        "plt.plot(np.arange(len(train_loss_history)), train_loss_history, label = 'train')\n",
        "plt.plot(np.arange(len(test_loss_history)), test_loss_history, label = 'test')\n",
        "plt.title('Loss')\n",
        "plt.xlabel(\"epoch\")\n",
        "plt.ylabel(\"loss function\")\n",
        "plt.legend()\n",
        "plt.show()"
      ]
    },
    {
      "cell_type": "markdown",
      "metadata": {
        "id": "1IAviPIWvxAm"
      },
      "source": [
        "Here train loss becomes smaller with each epoch and improves the model. And test from some point does not decrease, but even increases. This means we have overfited the model"
      ]
    },
    {
      "cell_type": "markdown",
      "metadata": {
        "id": "oOiAVXvCvxAm"
      },
      "source": [
        "### Task 3: Fix it.\n",
        "Let's fix the overfitted network from the previous step by using regularization techniques and demonstrate the results"
      ]
    },
    {
      "cell_type": "code",
      "execution_count": null,
      "metadata": {
        "id": "d2NwsIvavxAm"
      },
      "outputs": [],
      "source": [
        "class FixedNeuralNetwork(nn.Module):\n",
        "    def __init__(self, input_shape=28*28, num_classes=10, input_channels=1):\n",
        "        super(self.__class__, self).__init__()\n",
        "        self.model = nn.Sequential(\n",
        "            nn.Flatten(), # This layer converts image into a vector to use Linear layers afterwards\n",
        "\n",
        "            nn.Linear(input_shape * input_channels, 400),\n",
        "            nn.BatchNorm1d(400),\n",
        "            nn.ReLU(),\n",
        "            nn.Dropout(0.5),\n",
        "            nn.Linear(400, 200),\n",
        "            nn.BatchNorm1d(200,),\n",
        "            nn.ReLU(),\n",
        "            nn.Dropout(0.5),\n",
        "            nn.Linear(200, 10)\n",
        "        )\n",
        "\n",
        "    def forward(self, inp):\n",
        "        out = self.model(inp)\n",
        "        return out"
      ]
    },
    {
      "cell_type": "code",
      "execution_count": null,
      "metadata": {
        "id": "Sa6Os4TcvxAm",
        "outputId": "375a1070-826f-4bec-8d74-a476ad8683a4"
      },
      "outputs": [
        {
          "name": "stdout",
          "output_type": "stream",
          "text": [
            "----------------------------------------------------------------\n",
            "        Layer (type)               Output Shape         Param #\n",
            "================================================================\n",
            "           Flatten-1                  [-1, 784]               0\n",
            "            Linear-2                  [-1, 400]         314,000\n",
            "       BatchNorm1d-3                  [-1, 400]             800\n",
            "              ReLU-4                  [-1, 400]               0\n",
            "           Dropout-5                  [-1, 400]               0\n",
            "            Linear-6                  [-1, 200]          80,200\n",
            "       BatchNorm1d-7                  [-1, 200]             400\n",
            "              ReLU-8                  [-1, 200]               0\n",
            "           Dropout-9                  [-1, 200]               0\n",
            "           Linear-10                   [-1, 10]           2,010\n",
            "================================================================\n",
            "Total params: 397,410\n",
            "Trainable params: 397,410\n",
            "Non-trainable params: 0\n",
            "----------------------------------------------------------------\n",
            "Input size (MB): 0.00\n",
            "Forward/backward pass size (MB): 0.02\n",
            "Params size (MB): 1.52\n",
            "Estimated Total Size (MB): 1.54\n",
            "----------------------------------------------------------------\n"
          ]
        }
      ],
      "source": [
        "torchsummary.summary(FixedNeuralNetwork().to(device), (28*28,))"
      ]
    },
    {
      "cell_type": "code",
      "execution_count": null,
      "metadata": {
        "id": "eaHt2kDQvxAm"
      },
      "outputs": [],
      "source": [
        "model = FixedNeuralNetwork().to(device)\n",
        "opt = torch.optim.Adam(model.parameters(), lr=0.01)\n",
        "loss_func = nn.CrossEntropyLoss()"
      ]
    },
    {
      "cell_type": "code",
      "execution_count": null,
      "metadata": {
        "id": "cNltvI9_vxAn",
        "outputId": "d8041336-6268-4b25-b9c4-ebf0b46df880"
      },
      "outputs": [
        {
          "name": "stdout",
          "output_type": "stream",
          "text": [
            "epoch: 0, accuracy: 0.8416015625\n",
            "epoch: 1, accuracy: 0.8576171875\n",
            "epoch: 2, accuracy: 0.8625\n",
            "epoch: 3, accuracy: 0.86298828125\n",
            "epoch: 4, accuracy: 0.87841796875\n",
            "epoch: 5, accuracy: 0.8724609375\n",
            "epoch: 6, accuracy: 0.8794921875\n",
            "epoch: 7, accuracy: 0.87783203125\n",
            "epoch: 8, accuracy: 0.87607421875\n",
            "epoch: 9, accuracy: 0.8796875\n",
            "epoch: 10, accuracy: 0.88037109375\n",
            "epoch: 11, accuracy: 0.8873046875\n",
            "epoch: 12, accuracy: 0.88408203125\n",
            "epoch: 13, accuracy: 0.8875\n",
            "epoch: 14, accuracy: 0.88583984375\n",
            "epoch: 15, accuracy: 0.88935546875\n",
            "epoch: 16, accuracy: 0.8775390625\n",
            "epoch: 17, accuracy: 0.8826171875\n",
            "epoch: 18, accuracy: 0.887890625\n",
            "epoch: 19, accuracy: 0.88896484375\n"
          ]
        }
      ],
      "source": [
        "train_loss_history, test_loss_history, accuracy_history = train(train_loader, test_loader, model, opt, loss_func, 20)"
      ]
    },
    {
      "cell_type": "code",
      "execution_count": null,
      "metadata": {
        "id": "euRSKXvzvxAn",
        "outputId": "2803639d-8813-4bbf-cc91-5a530cdebd3d"
      },
      "outputs": [
        {
          "data": {
            "image/png": "[encoded data removed]",
            "text/plain": [
              "<Figure size 640x480 with 1 Axes>"
            ]
          },
          "metadata": {},
          "output_type": "display_data"
        }
      ],
      "source": [
        "plt.plot(np.arange(len(train_loss_history)), train_loss_history, label = 'train')\n",
        "plt.plot(np.arange(len(test_loss_history)), test_loss_history, label = 'test')\n",
        "plt.title('Loss')\n",
        "plt.xlabel(\"epoch\")\n",
        "plt.ylabel(\"loss function\")\n",
        "plt.legend()\n",
        "plt.show()"
      ]
    },
    {
      "cell_type": "code",
      "execution_count": null,
      "metadata": {
        "id": "Nz792t6LvxAn",
        "outputId": "5270c93e-c14a-43eb-89aa-5d866c5115ef"
      },
      "outputs": [
        {
          "data": {
            "image/png": "[encoded data removed]",
            "text/plain": [
              "<Figure size 640x480 with 1 Axes>"
            ]
          },
          "metadata": {},
          "output_type": "display_data"
        }
      ],
      "source": [
        "plt.plot(np.arange(len(accuracy_history)), accuracy_history)\n",
        "plt.axhline(y=0.885, color = 'r')\n",
        "plt.title('Accuracy')\n",
        "plt.xlabel(\"epoch\")\n",
        "plt.ylabel(\"accuracy\")\n",
        "plt.show()"
      ]
    },
    {
      "cell_type": "markdown",
      "metadata": {
        "id": "do0UA-sOvxAn"
      },
      "source": [
        "Here both train and test decrease with each epoch. So we got rid of overfiting!"
      ]
    },
    {
      "cell_type": "markdown",
      "metadata": {
        "id": "dMui_uLJ7G0d"
      },
      "source": [
        "### Conclusions:\n",
        "\n",
        "Without regularizators, our model can easily overfit. Dropout and BatchNorm helped get rid of this\n",
        "\n",
        "The best accuracy value is about 0.8889\n",
        "\n",
        "Also illustrated that if the test does not improve with each iteration, the model is overtrained"
      ]
    }
  ],
  "metadata": {
    "accelerator": "GPU",
    "colab": {
      "provenance": []
    },
    "kernelspec": {
      "display_name": "Python 3 (ipykernel)",
      "language": "python",
      "name": "python3"
    },
    "language_info": {
      "codemirror_mode": {
        "name": "ipython",
        "version": 3
      },
      "file_extension": ".py",
      "mimetype": "text/x-python",
      "name": "python",
      "nbconvert_exporter": "python",
      "pygments_lexer": "ipython3",
      "version": "3.11.5"
    }
  },
  "nbformat": 4,
  "nbformat_minor": 0
}